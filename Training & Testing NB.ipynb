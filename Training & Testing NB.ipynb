{
 "cells": [
  {
   "cell_type": "markdown",
   "metadata": {},
   "source": [
    "# Credit Card Fraud Detection Using ML\n",
    "#### Author : Mayank Yadav"
   ]
  },
  {
   "cell_type": "markdown",
   "metadata": {},
   "source": [
    "## Sections\n",
    "1. <a href='#data_preprocessing'>Data Preprocessing</a>\n",
    "    1. <a href='#import_library'>Importing Libaries</a>\n",
    "    2. <a href='#import_dataset'>Importing Dataset</a>\n",
    "    3. <a href='#check_missing'>Check For Missing Values</a>\n",
    "2. <a href='#data_visual'>Data Visualisation</a>\n",
    "3. <a href='#data_balance'>Creating Balanced Dataset</a>\n",
    "4. <a href='#data_split'>Split Dataset Into Train And Test</a>\n",
    "5. <a href='#feature_scale'>Feature Scaling</a>\n",
    "6. <a href='#model_build'>Model Building</a>\n",
    "    1. <a href='#knn'>KNN Classifier</a>\n",
    "    2. <a href='#decision_tree'>Decision Tree Classifier</a>\n",
    "    3. <a href='#random_forest'>Random Forest Classifier</a>\n",
    "    4. <a href='#svm'>SVM Classifier</a>\n",
    "    5. <a href='#naive_bayes'>Naive Bayes Classifier</a>\n",
    "    6. <a href='#lr'>Logistic Regression</a>\n",
    "7. <a href='#model_eval'>Model Evaluation</a>\n",
    "    1. <a href='#knn_eval'>KNN Classifier Evaluation</a>\n",
    "    2. <a href='#decision_tree_eval'>Decision Tree Classifier Evaluation</a>\n",
    "    3. <a href='#random_forest_eval'>Random Forest Classifier Evaluation</a>\n",
    "    4. <a href='#svm_eval'>SVM Classifier Evaluation</a>\n",
    "    5. <a href='#naive_bayes_eval'>Naive Bayes Classifier Evaluation</a>\n",
    "    6. <a href='#lr_eval'>Logistic Regression Evaluation</a>\n",
    "8. <a href='#model_compare'>Model Performance Comparison</a>\n",
    "9. <a href='#best_model'>Best Model Predictions (Confusion Matrix, Classification Report)</a>"
   ]
  },
  {
   "cell_type": "markdown",
   "metadata": {},
   "source": [
    "<a id='data_preprocessing'></a>"
   ]
  },
  {
   "cell_type": "markdown",
   "metadata": {},
   "source": [
    "## Data Preprocessing"
   ]
  },
  {
   "cell_type": "markdown",
   "metadata": {},
   "source": [
    "<a id='import_library'></a>"
   ]
  },
  {
   "cell_type": "markdown",
   "metadata": {},
   "source": [
    "### Importing Libraries"
   ]
  },
  {
   "cell_type": "code",
   "execution_count": 1,
   "metadata": {},
   "outputs": [],
   "source": [
    "import numpy as np\n",
    "import pandas as pd\n",
    "import seaborn as sns\n",
    "import matplotlib.pyplot as plt\n",
    "%matplotlib inline"
   ]
  },
  {
   "cell_type": "markdown",
   "metadata": {},
   "source": [
    "<a id='import_dataset'></a>"
   ]
  },
  {
   "cell_type": "markdown",
   "metadata": {},
   "source": [
    "### Importing Dataset"
   ]
  },
  {
   "cell_type": "code",
   "execution_count": 2,
   "metadata": {},
   "outputs": [],
   "source": [
    "dataset = pd.read_csv('creditcard.csv')"
   ]
  },
  {
   "cell_type": "code",
   "execution_count": 3,
   "metadata": {},
   "outputs": [
    {
     "data": {
      "text/html": [
       "<div>\n",
       "<style scoped>\n",
       "    .dataframe tbody tr th:only-of-type {\n",
       "        vertical-align: middle;\n",
       "    }\n",
       "\n",
       "    .dataframe tbody tr th {\n",
       "        vertical-align: top;\n",
       "    }\n",
       "\n",
       "    .dataframe thead th {\n",
       "        text-align: right;\n",
       "    }\n",
       "</style>\n",
       "<table border=\"1\" class=\"dataframe\">\n",
       "  <thead>\n",
       "    <tr style=\"text-align: right;\">\n",
       "      <th></th>\n",
       "      <th>Time</th>\n",
       "      <th>V1</th>\n",
       "      <th>V2</th>\n",
       "      <th>V3</th>\n",
       "      <th>V4</th>\n",
       "      <th>V5</th>\n",
       "      <th>V6</th>\n",
       "      <th>V7</th>\n",
       "      <th>V8</th>\n",
       "      <th>V9</th>\n",
       "      <th>...</th>\n",
       "      <th>V21</th>\n",
       "      <th>V22</th>\n",
       "      <th>V23</th>\n",
       "      <th>V24</th>\n",
       "      <th>V25</th>\n",
       "      <th>V26</th>\n",
       "      <th>V27</th>\n",
       "      <th>V28</th>\n",
       "      <th>Amount</th>\n",
       "      <th>Class</th>\n",
       "    </tr>\n",
       "  </thead>\n",
       "  <tbody>\n",
       "    <tr>\n",
       "      <th>0</th>\n",
       "      <td>0.0</td>\n",
       "      <td>-1.359807</td>\n",
       "      <td>-0.072781</td>\n",
       "      <td>2.536347</td>\n",
       "      <td>1.378155</td>\n",
       "      <td>-0.338321</td>\n",
       "      <td>0.462388</td>\n",
       "      <td>0.239599</td>\n",
       "      <td>0.098698</td>\n",
       "      <td>0.363787</td>\n",
       "      <td>...</td>\n",
       "      <td>-0.018307</td>\n",
       "      <td>0.277838</td>\n",
       "      <td>-0.110474</td>\n",
       "      <td>0.066928</td>\n",
       "      <td>0.128539</td>\n",
       "      <td>-0.189115</td>\n",
       "      <td>0.133558</td>\n",
       "      <td>-0.021053</td>\n",
       "      <td>149.62</td>\n",
       "      <td>0</td>\n",
       "    </tr>\n",
       "    <tr>\n",
       "      <th>1</th>\n",
       "      <td>0.0</td>\n",
       "      <td>1.191857</td>\n",
       "      <td>0.266151</td>\n",
       "      <td>0.166480</td>\n",
       "      <td>0.448154</td>\n",
       "      <td>0.060018</td>\n",
       "      <td>-0.082361</td>\n",
       "      <td>-0.078803</td>\n",
       "      <td>0.085102</td>\n",
       "      <td>-0.255425</td>\n",
       "      <td>...</td>\n",
       "      <td>-0.225775</td>\n",
       "      <td>-0.638672</td>\n",
       "      <td>0.101288</td>\n",
       "      <td>-0.339846</td>\n",
       "      <td>0.167170</td>\n",
       "      <td>0.125895</td>\n",
       "      <td>-0.008983</td>\n",
       "      <td>0.014724</td>\n",
       "      <td>2.69</td>\n",
       "      <td>0</td>\n",
       "    </tr>\n",
       "    <tr>\n",
       "      <th>2</th>\n",
       "      <td>1.0</td>\n",
       "      <td>-1.358354</td>\n",
       "      <td>-1.340163</td>\n",
       "      <td>1.773209</td>\n",
       "      <td>0.379780</td>\n",
       "      <td>-0.503198</td>\n",
       "      <td>1.800499</td>\n",
       "      <td>0.791461</td>\n",
       "      <td>0.247676</td>\n",
       "      <td>-1.514654</td>\n",
       "      <td>...</td>\n",
       "      <td>0.247998</td>\n",
       "      <td>0.771679</td>\n",
       "      <td>0.909412</td>\n",
       "      <td>-0.689281</td>\n",
       "      <td>-0.327642</td>\n",
       "      <td>-0.139097</td>\n",
       "      <td>-0.055353</td>\n",
       "      <td>-0.059752</td>\n",
       "      <td>378.66</td>\n",
       "      <td>0</td>\n",
       "    </tr>\n",
       "    <tr>\n",
       "      <th>3</th>\n",
       "      <td>1.0</td>\n",
       "      <td>-0.966272</td>\n",
       "      <td>-0.185226</td>\n",
       "      <td>1.792993</td>\n",
       "      <td>-0.863291</td>\n",
       "      <td>-0.010309</td>\n",
       "      <td>1.247203</td>\n",
       "      <td>0.237609</td>\n",
       "      <td>0.377436</td>\n",
       "      <td>-1.387024</td>\n",
       "      <td>...</td>\n",
       "      <td>-0.108300</td>\n",
       "      <td>0.005274</td>\n",
       "      <td>-0.190321</td>\n",
       "      <td>-1.175575</td>\n",
       "      <td>0.647376</td>\n",
       "      <td>-0.221929</td>\n",
       "      <td>0.062723</td>\n",
       "      <td>0.061458</td>\n",
       "      <td>123.50</td>\n",
       "      <td>0</td>\n",
       "    </tr>\n",
       "    <tr>\n",
       "      <th>4</th>\n",
       "      <td>2.0</td>\n",
       "      <td>-1.158233</td>\n",
       "      <td>0.877737</td>\n",
       "      <td>1.548718</td>\n",
       "      <td>0.403034</td>\n",
       "      <td>-0.407193</td>\n",
       "      <td>0.095921</td>\n",
       "      <td>0.592941</td>\n",
       "      <td>-0.270533</td>\n",
       "      <td>0.817739</td>\n",
       "      <td>...</td>\n",
       "      <td>-0.009431</td>\n",
       "      <td>0.798278</td>\n",
       "      <td>-0.137458</td>\n",
       "      <td>0.141267</td>\n",
       "      <td>-0.206010</td>\n",
       "      <td>0.502292</td>\n",
       "      <td>0.219422</td>\n",
       "      <td>0.215153</td>\n",
       "      <td>69.99</td>\n",
       "      <td>0</td>\n",
       "    </tr>\n",
       "  </tbody>\n",
       "</table>\n",
       "<p>5 rows × 31 columns</p>\n",
       "</div>"
      ],
      "text/plain": [
       "   Time        V1        V2        V3        V4        V5        V6        V7  \\\n",
       "0   0.0 -1.359807 -0.072781  2.536347  1.378155 -0.338321  0.462388  0.239599   \n",
       "1   0.0  1.191857  0.266151  0.166480  0.448154  0.060018 -0.082361 -0.078803   \n",
       "2   1.0 -1.358354 -1.340163  1.773209  0.379780 -0.503198  1.800499  0.791461   \n",
       "3   1.0 -0.966272 -0.185226  1.792993 -0.863291 -0.010309  1.247203  0.237609   \n",
       "4   2.0 -1.158233  0.877737  1.548718  0.403034 -0.407193  0.095921  0.592941   \n",
       "\n",
       "         V8        V9  ...       V21       V22       V23       V24       V25  \\\n",
       "0  0.098698  0.363787  ... -0.018307  0.277838 -0.110474  0.066928  0.128539   \n",
       "1  0.085102 -0.255425  ... -0.225775 -0.638672  0.101288 -0.339846  0.167170   \n",
       "2  0.247676 -1.514654  ...  0.247998  0.771679  0.909412 -0.689281 -0.327642   \n",
       "3  0.377436 -1.387024  ... -0.108300  0.005274 -0.190321 -1.175575  0.647376   \n",
       "4 -0.270533  0.817739  ... -0.009431  0.798278 -0.137458  0.141267 -0.206010   \n",
       "\n",
       "        V26       V27       V28  Amount  Class  \n",
       "0 -0.189115  0.133558 -0.021053  149.62      0  \n",
       "1  0.125895 -0.008983  0.014724    2.69      0  \n",
       "2 -0.139097 -0.055353 -0.059752  378.66      0  \n",
       "3 -0.221929  0.062723  0.061458  123.50      0  \n",
       "4  0.502292  0.219422  0.215153   69.99      0  \n",
       "\n",
       "[5 rows x 31 columns]"
      ]
     },
     "execution_count": 3,
     "metadata": {},
     "output_type": "execute_result"
    }
   ],
   "source": [
    "# Displaying Dataset Head\n",
    "dataset.head()"
   ]
  },
  {
   "cell_type": "markdown",
   "metadata": {},
   "source": [
    "<a id='check_missing'></a>"
   ]
  },
  {
   "cell_type": "markdown",
   "metadata": {},
   "source": [
    "### Checking For Missing Values In Dataset"
   ]
  },
  {
   "cell_type": "code",
   "execution_count": 4,
   "metadata": {},
   "outputs": [
    {
     "data": {
      "text/plain": [
       "Time      0\n",
       "V1        0\n",
       "V2        0\n",
       "V3        0\n",
       "V4        0\n",
       "V5        0\n",
       "V6        0\n",
       "V7        0\n",
       "V8        0\n",
       "V9        0\n",
       "V10       0\n",
       "V11       0\n",
       "V12       0\n",
       "V13       0\n",
       "V14       0\n",
       "V15       0\n",
       "V16       0\n",
       "V17       0\n",
       "V18       0\n",
       "V19       0\n",
       "V20       0\n",
       "V21       0\n",
       "V22       0\n",
       "V23       0\n",
       "V24       0\n",
       "V25       0\n",
       "V26       0\n",
       "V27       0\n",
       "V28       0\n",
       "Amount    0\n",
       "Class     0\n",
       "dtype: int64"
      ]
     },
     "execution_count": 4,
     "metadata": {},
     "output_type": "execute_result"
    }
   ],
   "source": [
    "# Checking For Missing Values In Dataset\n",
    "dataset.isna().sum()"
   ]
  },
  {
   "cell_type": "markdown",
   "metadata": {},
   "source": [
    "No Missing Data (NA) In The Dataset"
   ]
  },
  {
   "cell_type": "markdown",
   "metadata": {},
   "source": [
    "<a id='data_visual'></a>"
   ]
  },
  {
   "cell_type": "markdown",
   "metadata": {},
   "source": [
    "## Data Visualisation"
   ]
  },
  {
   "cell_type": "code",
   "execution_count": 5,
   "metadata": {},
   "outputs": [
    {
     "data": {
      "image/png": "[encoded data removed]",
      "text/plain": [
       "<Figure size 432x432 with 1 Axes>"
      ]
     },
     "metadata": {},
     "output_type": "display_data"
    }
   ],
   "source": [
    "plt.figure(figsize = (6,6))\n",
    "dataset['Class'].value_counts()\n",
    "counts = [dataset['Class'].value_counts().iloc[0],dataset['Class'].value_counts().iloc[1]]\n",
    "labels = ['Genuine Transactions -> ' + str(round((counts[0]/dataset.shape[0]) * 100, 2)) + \"%\", 'Fraud Transactions -> '  + str(round((counts[1]/dataset.shape[0]) * 100, 2)) + \"%\"]\n",
    "plt.pie(counts, labels=labels)\n",
    "plt.legend()\n",
    "plt.title('Distribution Of Genuine & Fraud Transactions In Dataset')\n",
    "plt.show()"
   ]
  },
  {
   "cell_type": "code",
   "execution_count": 6,
   "metadata": {},
   "outputs": [
    {
     "data": {
      "image/png": "[encoded data removed]",
      "text/plain": [
       "<Figure size 720x720 with 2 Axes>"
      ]
     },
     "metadata": {
      "needs_background": "light"
     },
     "output_type": "display_data"
    }
   ],
   "source": [
    "# Plotting Correlation Between Different Factors Of Dataset\n",
    "data_corr = dataset.corr()\n",
    "fig = plt.figure(figsize = (10,10))\n",
    "sns.heatmap(data_corr, square=True, cmap='Blues')\n",
    "plt.title('Correlation Heatmap For Dataset Variables')\n",
    "plt.show()"
   ]
  },
  {
   "cell_type": "code",
   "execution_count": 7,
   "metadata": {},
   "outputs": [
    {
     "data": {
      "image/png": "[encoded data removed]",
      "text/plain": [
       "<Figure size 1152x432 with 2 Axes>"
      ]
     },
     "metadata": {
      "needs_background": "light"
     },
     "output_type": "display_data"
    }
   ],
   "source": [
    "f, (ax1, ax2) = plt.subplots(2, 1, sharex=True, figsize=(16,6))\n",
    "ax1.hist(dataset.Amount[dataset.Class == 1], bins = 30, color='yellow')\n",
    "ax1.set_title('Fraudalent Transactions')\n",
    "plt.xlabel('Amount')\n",
    "ax2.hist(dataset.Amount[dataset.Class == 0], bins = 30, color='blue')\n",
    "ax2.set_title('Genuine Transactions')\n",
    "plt.ylabel('Number of Transactions')\n",
    "plt.yscale('log')\n",
    "plt.show()"
   ]
  },
  {
   "cell_type": "code",
   "execution_count": 8,
   "metadata": {},
   "outputs": [
    {
     "data": {
      "image/png": "[encoded data removed]",
      "text/plain": [
       "<Figure size 1152x432 with 2 Axes>"
      ]
     },
     "metadata": {
      "needs_background": "light"
     },
     "output_type": "display_data"
    }
   ],
   "source": [
    "f, (ax1, ax2) = plt.subplots(2, 1, sharex=True, figsize=(16,6))\n",
    "ax1.hist(dataset.Time[dataset.Class == 1], bins = 30, color='yellow')\n",
    "ax1.set_title('Fraudalent Transactions')\n",
    "plt.xlabel('Time Since Last Transaction')\n",
    "ax2.hist(dataset.Time[dataset.Class == 0], bins = 30, color='blue')\n",
    "ax2.set_title('Genuine Transactions')\n",
    "plt.ylabel('Number of Transactions')\n",
    "plt.yscale('log')\n",
    "plt.show()"
   ]
  },
  {
   "cell_type": "markdown",
   "metadata": {},
   "source": [
    "<a id='data_balance'></a>"
   ]
  },
  {
   "cell_type": "markdown",
   "metadata": {},
   "source": [
    "### Creating Balanced Dataset"
   ]
  },
  {
   "cell_type": "code",
   "execution_count": 9,
   "metadata": {},
   "outputs": [
    {
     "data": {
      "image/png": "[encoded data removed]",
      "text/plain": [
       "<Figure size 432x432 with 1 Axes>"
      ]
     },
     "metadata": {},
     "output_type": "display_data"
    }
   ],
   "source": [
    "plt.figure(figsize = (6,6))\n",
    "counts = [dataset['Class'].value_counts().iloc[0],dataset['Class'].value_counts().iloc[1]]\n",
    "labels = ['Genuine Transactions -> ' + str(round((counts[0]/dataset.shape[0]) * 100, 2)) + \"%\", 'Fraud Transactions -> '  + str(round((counts[1]/dataset.shape[0]) * 100, 2)) + \"%\"]\n",
    "plt.pie(counts, labels=labels)\n",
    "plt.legend(loc = 'upper right')\n",
    "plt.title('Distribution Of Genuine & Fraud Transactions In Original Dataset')\n",
    "plt.show()"
   ]
  },
  {
   "cell_type": "code",
   "execution_count": 10,
   "metadata": {},
   "outputs": [
    {
     "data": {
      "text/plain": [
       "0    284315\n",
       "1       492\n",
       "Name: Class, dtype: int64"
      ]
     },
     "execution_count": 10,
     "metadata": {},
     "output_type": "execute_result"
    }
   ],
   "source": [
    "dataset['Class'].value_counts()"
   ]
  },
  {
   "cell_type": "markdown",
   "metadata": {},
   "source": [
    "Here it can be observed that the dataset is **highly inbalanced**, and thus for accurate ML predictions and training, a balanced dataset has to be created."
   ]
  },
  {
   "cell_type": "code",
   "execution_count": 11,
   "metadata": {},
   "outputs": [],
   "source": [
    "# Selecting All Entries For Fraudulent Transactions\n",
    "fraud_trans = dataset[dataset['Class'] == 1]\n",
    "\n",
    "# Selecting 492 Entries Of Genuine Transactions\n",
    "# Selecting These Entries Randomly using sample() method of Pandas DataFrame\n",
    "gen_trans = dataset[dataset['Class'] == 0].sample(n = 492, random_state=300)\n",
    "\n",
    "# Combining Both DataFrames To Form Balanced Dataset\n",
    "dataset = pd.concat([gen_trans, fraud_trans])"
   ]
  },
  {
   "cell_type": "code",
   "execution_count": 12,
   "metadata": {},
   "outputs": [
    {
     "data": {
      "image/png": "[encoded data removed]",
      "text/plain": [
       "<Figure size 432x432 with 1 Axes>"
      ]
     },
     "metadata": {},
     "output_type": "display_data"
    }
   ],
   "source": [
    "plt.figure(figsize = (6,6))\n",
    "counts = [dataset['Class'].value_counts().iloc[0],dataset['Class'].value_counts().iloc[1]]\n",
    "labels = ['Genuine Transactions -> ' + str(round((counts[0]/dataset.shape[0]) * 100, 2)) + \"%\", 'Fraud Transactions -> '  + str(round((counts[1]/dataset.shape[0]) * 100, 2)) + \"%\"]\n",
    "plt.pie(counts, labels=labels)\n",
    "plt.legend(loc = 'right')\n",
    "plt.title('Distribution Of Genuine & Fraud Transactions In Balanced Dataset')\n",
    "plt.show()"
   ]
  },
  {
   "cell_type": "code",
   "execution_count": 13,
   "metadata": {},
   "outputs": [
    {
     "data": {
      "text/plain": [
       "1    492\n",
       "0    492\n",
       "Name: Class, dtype: int64"
      ]
     },
     "execution_count": 13,
     "metadata": {},
     "output_type": "execute_result"
    }
   ],
   "source": [
    "dataset['Class'].value_counts()"
   ]
  },
  {
   "cell_type": "code",
   "execution_count": 14,
   "metadata": {},
   "outputs": [],
   "source": [
    "# Saving Balanced Dataset\n",
    "dataset.to_csv('balanced_dataset.csv')"
   ]
  },
  {
   "cell_type": "markdown",
   "metadata": {},
   "source": [
    "Now the entries for the Fraudulent and Genuine Transactions are **Perfectly Balanced** in the dataset"
   ]
  },
  {
   "cell_type": "markdown",
   "metadata": {},
   "source": [
    "<a id='data_split'></a>"
   ]
  },
  {
   "cell_type": "markdown",
   "metadata": {},
   "source": [
    "### Splitting Dataset Into Train And Test"
   ]
  },
  {
   "cell_type": "code",
   "execution_count": 15,
   "metadata": {},
   "outputs": [],
   "source": [
    "# Extracting X from the dataset\n",
    "X = dataset.iloc[:,:-1]\n",
    "\n",
    "# Extracting y from the dataset\n",
    "y = dataset.iloc[:,-1]"
   ]
  },
  {
   "cell_type": "code",
   "execution_count": 16,
   "metadata": {},
   "outputs": [],
   "source": [
    "# Splitting Dataset Into Train and Test Sets\n",
    "from sklearn.model_selection import train_test_split\n",
    "X_train, X_test, y_train, y_test = train_test_split(X, y, test_size = 0.2, random_state = 300)"
   ]
  },
  {
   "cell_type": "code",
   "execution_count": 17,
   "metadata": {},
   "outputs": [
    {
     "name": "stdout",
     "output_type": "stream",
     "text": [
      "Size of X_train : (787, 30)\n",
      "Size of y_train : (787,)\n",
      "Size of X_test : (197, 30)\n",
      "Size of y_test : (197,)\n"
     ]
    }
   ],
   "source": [
    "# Checking Sizes Of Train & Test Splits\n",
    "print('Size of X_train : ' + str(X_train.shape))\n",
    "print('Size of y_train : ' + str(y_train.shape))\n",
    "print('Size of X_test : ' + str(X_test.shape))\n",
    "print('Size of y_test : ' + str(y_test.shape))"
   ]
  },
  {
   "cell_type": "markdown",
   "metadata": {},
   "source": [
    "<a id='feature_scale'></a>"
   ]
  },
  {
   "cell_type": "markdown",
   "metadata": {},
   "source": [
    "### Feature Scaling"
   ]
  },
  {
   "cell_type": "code",
   "execution_count": 18,
   "metadata": {},
   "outputs": [],
   "source": [
    "from sklearn.preprocessing import RobustScaler\n",
    "scaler = RobustScaler()\n",
    "scaler.fit(X_train)\n",
    "\n",
    "X_train = scaler.transform(X_train)\n",
    "X_test = scaler.transform(X_test)"
   ]
  },
  {
   "cell_type": "markdown",
   "metadata": {},
   "source": [
    "<a id='model_build'></a>"
   ]
  },
  {
   "cell_type": "markdown",
   "metadata": {},
   "source": [
    "## Model Building"
   ]
  },
  {
   "cell_type": "markdown",
   "metadata": {},
   "source": [
    "<a id='knn'></a>"
   ]
  },
  {
   "cell_type": "markdown",
   "metadata": {},
   "source": [
    "### KNN Model"
   ]
  },
  {
   "cell_type": "code",
   "execution_count": 19,
   "metadata": {},
   "outputs": [],
   "source": [
    "# Building Model With Neighbors From 1 to 15\n",
    "from sklearn.neighbors import KNeighborsClassifier\n",
    "from sklearn.model_selection import cross_val_score\n",
    "\n",
    "knn_scores = []\n",
    "n_val = []\n",
    "for i in range(1,16):\n",
    "    clf = KNeighborsClassifier(n_neighbors=i)\n",
    "    clf.fit(X_train, y_train)\n",
    "    acc_score = cross_val_score(clf, X_train, y_train, scoring='f1', cv=5)\n",
    "    knn_scores.append(np.mean(acc_score))\n",
    "    n_val.append(i)"
   ]
  },
  {
   "cell_type": "code",
   "execution_count": 20,
   "metadata": {},
   "outputs": [
    {
     "name": "stdout",
     "output_type": "stream",
     "text": [
      "[1, 2, 3, 4, 5, 6, 7, 8, 9, 10, 11, 12, 13, 14, 15]\n"
     ]
    }
   ],
   "source": [
    "print(n_val)"
   ]
  },
  {
   "cell_type": "code",
   "execution_count": 21,
   "metadata": {},
   "outputs": [
    {
     "data": {
      "image/png": "[encoded data removed]",
      "text/plain": [
       "<Figure size 1080x360 with 1 Axes>"
      ]
     },
     "metadata": {
      "needs_background": "light"
     },
     "output_type": "display_data"
    }
   ],
   "source": [
    "plt.figure(figsize=(15,5))\n",
    "sns.lineplot(n_val,knn_scores)\n",
    "plt.title('Cross Validation Score (F1 Score) For KNN Classifier')\n",
    "plt.xlabel('Number Of Neighbors')\n",
    "plt.ylabel('Cross Validation Score (F1 Score)')\n",
    "plt.show()"
   ]
  },
  {
   "cell_type": "code",
   "execution_count": 22,
   "metadata": {},
   "outputs": [
    {
     "name": "stdout",
     "output_type": "stream",
     "text": [
      "Best F1 Score : 0.9120103113530229\n",
      "Best Neighbor Value : 3\n"
     ]
    }
   ],
   "source": [
    "print('Best F1 Score : ' + str(np.max(knn_scores)))\n",
    "print('Best Neighbor Value : ' + str(n_val[knn_scores.index(np.max(knn_scores))]))"
   ]
  },
  {
   "cell_type": "code",
   "execution_count": 23,
   "metadata": {},
   "outputs": [],
   "source": [
    "# Building Final KNN Model\n",
    "knn_classifier = KNeighborsClassifier(n_neighbors=n_val[knn_scores.index(np.max(knn_scores))])\n",
    "knn_classifier.fit(X_train, y_train)\n",
    "knn_f1_score = np.mean(cross_val_score(knn_classifier, X_train, y_train, scoring='f1', cv=5))"
   ]
  },
  {
   "cell_type": "code",
   "execution_count": 24,
   "metadata": {},
   "outputs": [],
   "source": [
    "# Saving KNN Model Using Pickle\n",
    "import pickle\n",
    "filename = 'KNN_Classifier.model'\n",
    "with open(filename, 'wb') as file:\n",
    "    pickle.dump(knn_classifier, file)"
   ]
  },
  {
   "cell_type": "markdown",
   "metadata": {},
   "source": [
    "<a id='decision_tree'></a>"
   ]
  },
  {
   "cell_type": "markdown",
   "metadata": {},
   "source": [
    "### Decision Tree Classifier"
   ]
  },
  {
   "cell_type": "code",
   "execution_count": 25,
   "metadata": {},
   "outputs": [],
   "source": [
    "from sklearn.tree import DecisionTreeClassifier\n",
    "dt_classifier = DecisionTreeClassifier(random_state=300, max_depth=8, min_samples_split=2)\n",
    "dt_classifier.fit(X_train, y_train)\n",
    "dt_f1_score = np.mean(cross_val_score(dt_classifier, X_train, y_train, scoring='f1', cv=5))"
   ]
  },
  {
   "cell_type": "code",
   "execution_count": 26,
   "metadata": {},
   "outputs": [
    {
     "name": "stdout",
     "output_type": "stream",
     "text": [
      "Decison Tree Classifier F1-Score : 0.9123143093465675\n"
     ]
    }
   ],
   "source": [
    "print('Decison Tree Classifier F1-Score : ' + str(dt_f1_score))"
   ]
  },
  {
   "cell_type": "code",
   "execution_count": 27,
   "metadata": {},
   "outputs": [
    {
     "data": {
      "image/png": "[encoded data removed]",
      "text/plain": [
       "<Figure size 1080x720 with 1 Axes>"
      ]
     },
     "metadata": {
      "needs_background": "light"
     },
     "output_type": "display_data"
    }
   ],
   "source": [
    "from sklearn.tree import plot_tree\n",
    "plt.figure(figsize=(15,10))\n",
    "plot_tree(dt_classifier)\n",
    "plt.title('Decision Tree For Classification Of Fraud & Genuine Transaction')\n",
    "plt.show()"
   ]
  },
  {
   "cell_type": "code",
   "execution_count": 28,
   "metadata": {},
   "outputs": [],
   "source": [
    "# Saving Decision Tree Model Using Pickle\n",
    "import pickle\n",
    "filename = 'Decison_Tree_Classifier.model'\n",
    "with open(filename, 'wb') as file:\n",
    "    pickle.dump(dt_classifier, file)"
   ]
  },
  {
   "cell_type": "markdown",
   "metadata": {},
   "source": [
    "<a id='random_forest'></a>"
   ]
  },
  {
   "cell_type": "markdown",
   "metadata": {},
   "source": [
    "### Random Forest Classifier"
   ]
  },
  {
   "cell_type": "code",
   "execution_count": 29,
   "metadata": {},
   "outputs": [],
   "source": [
    "from sklearn.ensemble import RandomForestClassifier\n",
    "rf_classifier = RandomForestClassifier(random_state=300, n_estimators=100, bootstrap=True)\n",
    "rf_classifier.fit(X_train, y_train)\n",
    "rf_f1_score = np.mean(cross_val_score(rf_classifier, X_train, y_train, scoring='f1', cv=5))"
   ]
  },
  {
   "cell_type": "code",
   "execution_count": 30,
   "metadata": {},
   "outputs": [
    {
     "name": "stdout",
     "output_type": "stream",
     "text": [
      "Random Forest Classifier F1-Score : 0.9375590001060772\n"
     ]
    }
   ],
   "source": [
    "print('Random Forest Classifier F1-Score : ' + str(rf_f1_score))"
   ]
  },
  {
   "cell_type": "code",
   "execution_count": 31,
   "metadata": {},
   "outputs": [],
   "source": [
    "# Saving Random Forest Model Using Pickle\n",
    "import pickle\n",
    "filename = 'Random_Forest_Classifier.model'\n",
    "with open(filename, 'wb') as file:\n",
    "    pickle.dump(rf_classifier, file)"
   ]
  },
  {
   "cell_type": "markdown",
   "metadata": {},
   "source": [
    "<a id='svm'></a>"
   ]
  },
  {
   "cell_type": "markdown",
   "metadata": {},
   "source": [
    "### SVM Classifier"
   ]
  },
  {
   "cell_type": "code",
   "execution_count": 32,
   "metadata": {},
   "outputs": [],
   "source": [
    "from sklearn.svm import SVC\n",
    "svm_classifier = SVC(kernel='linear', random_state = 300, probability=True)\n",
    "svm_classifier.fit(X_train, y_train)\n",
    "svm_f1_score = np.mean(cross_val_score(svm_classifier, X_train, y_train, scoring='f1', cv=5))"
   ]
  },
  {
   "cell_type": "code",
   "execution_count": 33,
   "metadata": {},
   "outputs": [
    {
     "name": "stdout",
     "output_type": "stream",
     "text": [
      "Support Vector Classifier F1-Score : 0.9376280608622304\n"
     ]
    }
   ],
   "source": [
    "print('Support Vector Classifier F1-Score : ' + str(svm_f1_score))"
   ]
  },
  {
   "cell_type": "code",
   "execution_count": 34,
   "metadata": {},
   "outputs": [],
   "source": [
    "# Saving SVM Model Using Pickle\n",
    "import pickle\n",
    "filename = 'SVM_Classifier.model'\n",
    "with open(filename, 'wb') as file:\n",
    "    pickle.dump(svm_classifier, file)"
   ]
  },
  {
   "cell_type": "markdown",
   "metadata": {},
   "source": [
    "<a id='naive_bayes'></a>"
   ]
  },
  {
   "cell_type": "markdown",
   "metadata": {},
   "source": [
    "### Naive Bayes Classifier"
   ]
  },
  {
   "cell_type": "code",
   "execution_count": 35,
   "metadata": {},
   "outputs": [],
   "source": [
    "from sklearn.naive_bayes import GaussianNB\n",
    "nb_classifier = GaussianNB()\n",
    "nb_classifier.fit(X_train, y_train)\n",
    "nb_f1_score = np.mean(cross_val_score(nb_classifier, X_train, y_train, scoring='f1', cv=5))"
   ]
  },
  {
   "cell_type": "code",
   "execution_count": 36,
   "metadata": {},
   "outputs": [
    {
     "name": "stdout",
     "output_type": "stream",
     "text": [
      "Naive Bayes Classifier F1-Score : 0.9088251018489043\n"
     ]
    }
   ],
   "source": [
    "print('Naive Bayes Classifier F1-Score : ' + str(nb_f1_score))"
   ]
  },
  {
   "cell_type": "code",
   "execution_count": 37,
   "metadata": {},
   "outputs": [],
   "source": [
    "# Saving Naive Bayes Model Using Pickle\n",
    "import pickle\n",
    "filename = 'NB_Classifier.model'\n",
    "with open(filename, 'wb') as file:\n",
    "    pickle.dump(nb_classifier, file)"
   ]
  },
  {
   "cell_type": "markdown",
   "metadata": {},
   "source": [
    "<a id='lr'></a>"
   ]
  },
  {
   "cell_type": "markdown",
   "metadata": {},
   "source": [
    "### Logistic Regression"
   ]
  },
  {
   "cell_type": "code",
   "execution_count": 38,
   "metadata": {},
   "outputs": [],
   "source": [
    "from sklearn.linear_model import LogisticRegression\n",
    "lg_classifier = LogisticRegression(solver='liblinear')\n",
    "lg_classifier.fit(X_train, y_train)\n",
    "lg_f1_score = np.mean(cross_val_score(lg_classifier, X_train, y_train, scoring='f1', cv=5))"
   ]
  },
  {
   "cell_type": "code",
   "execution_count": 39,
   "metadata": {},
   "outputs": [
    {
     "name": "stdout",
     "output_type": "stream",
     "text": [
      "Logistic Regression F1-Score : 0.9375464895635673\n"
     ]
    }
   ],
   "source": [
    "print('Logistic Regression F1-Score : ' + str(lg_f1_score))"
   ]
  },
  {
   "cell_type": "code",
   "execution_count": 40,
   "metadata": {},
   "outputs": [],
   "source": [
    "# Saving Logistic Regression Model Using Pickle\n",
    "import pickle\n",
    "filename = 'LGR_Classifier.model'\n",
    "with open(filename, 'wb') as file:\n",
    "    pickle.dump(lg_classifier, file)"
   ]
  },
  {
   "cell_type": "markdown",
   "metadata": {},
   "source": [
    "<a id='model_eval'></a>"
   ]
  },
  {
   "cell_type": "markdown",
   "metadata": {},
   "source": [
    "## Model Evaluation"
   ]
  },
  {
   "cell_type": "code",
   "execution_count": 41,
   "metadata": {},
   "outputs": [],
   "source": [
    "model_eval_df = pd.DataFrame(columns=['Model','Train F1 Score','Test F1 Score','Test Accuracy'])\n",
    "df_index = 0"
   ]
  },
  {
   "cell_type": "markdown",
   "metadata": {},
   "source": [
    "<a id='knn_eval'></a>"
   ]
  },
  {
   "cell_type": "markdown",
   "metadata": {},
   "source": [
    "### KNN Model Evaluation"
   ]
  },
  {
   "cell_type": "code",
   "execution_count": 42,
   "metadata": {},
   "outputs": [],
   "source": [
    "predictions = knn_classifier.predict(X_test)\n",
    "# Caculating F1 Score\n",
    "from sklearn.metrics import f1_score, accuracy_score\n",
    "knn_test_f1_score = f1_score(y_test, predictions)\n",
    "knn_test_acc_score = accuracy_score(y_test, predictions)\n",
    "\n",
    "# Adding Scores To DataFrame\n",
    "model_eval_df.loc[df_index] = ['KNN', knn_f1_score, knn_test_f1_score, knn_test_acc_score]\n",
    "df_index = df_index + 1"
   ]
  },
  {
   "cell_type": "markdown",
   "metadata": {},
   "source": [
    "<a id='decision_tree_eval'></a>"
   ]
  },
  {
   "cell_type": "markdown",
   "metadata": {},
   "source": [
    "### Decision Tree Evaluation"
   ]
  },
  {
   "cell_type": "code",
   "execution_count": 43,
   "metadata": {},
   "outputs": [],
   "source": [
    "predictions = dt_classifier.predict(X_test)\n",
    "# Caculating F1 Score\n",
    "from sklearn.metrics import f1_score, accuracy_score\n",
    "dt_test_f1_score = f1_score(y_test, predictions)\n",
    "dt_test_acc_score = accuracy_score(y_test, predictions)\n",
    "\n",
    "# Adding Scores To DataFrame\n",
    "model_eval_df.loc[df_index] = ['Decision Tree', dt_f1_score, dt_test_f1_score, dt_test_acc_score]\n",
    "df_index = df_index + 1"
   ]
  },
  {
   "cell_type": "markdown",
   "metadata": {},
   "source": [
    "<a id='random_forest_eval'></a>"
   ]
  },
  {
   "cell_type": "markdown",
   "metadata": {},
   "source": [
    "### Random Forest Evaluation"
   ]
  },
  {
   "cell_type": "code",
   "execution_count": 44,
   "metadata": {},
   "outputs": [],
   "source": [
    "predictions = rf_classifier.predict(X_test)\n",
    "# Caculating F1 Score\n",
    "from sklearn.metrics import f1_score, accuracy_score\n",
    "rf_test_f1_score = f1_score(y_test, predictions)\n",
    "rf_test_acc_score = accuracy_score(y_test, predictions)\n",
    "\n",
    "# Adding Scores To DataFrame\n",
    "model_eval_df.loc[df_index] = ['Random Forest', rf_f1_score, rf_test_f1_score, rf_test_acc_score]\n",
    "df_index = df_index + 1"
   ]
  },
  {
   "cell_type": "markdown",
   "metadata": {},
   "source": [
    "<a id='svm_eval'></a>"
   ]
  },
  {
   "cell_type": "markdown",
   "metadata": {},
   "source": [
    "### SVM Model Evaluation"
   ]
  },
  {
   "cell_type": "code",
   "execution_count": 45,
   "metadata": {},
   "outputs": [],
   "source": [
    "predictions = svm_classifier.predict(X_test)\n",
    "# Caculating F1 Score\n",
    "from sklearn.metrics import f1_score, accuracy_score\n",
    "svm_test_f1_score = f1_score(y_test, predictions)\n",
    "svm_test_acc_score = accuracy_score(y_test, predictions)\n",
    "\n",
    "# Adding Scores To DataFrame\n",
    "model_eval_df.loc[df_index] = ['SVM Classifier', svm_f1_score, svm_test_f1_score, svm_test_acc_score]\n",
    "df_index = df_index + 1"
   ]
  },
  {
   "cell_type": "markdown",
   "metadata": {},
   "source": [
    "<a id='naive_bayes_eval'></a>"
   ]
  },
  {
   "cell_type": "markdown",
   "metadata": {},
   "source": [
    "### Naive Bayes Model Evaluation"
   ]
  },
  {
   "cell_type": "code",
   "execution_count": 46,
   "metadata": {},
   "outputs": [],
   "source": [
    "predictions = nb_classifier.predict(X_test)\n",
    "# Caculating F1 Score\n",
    "from sklearn.metrics import f1_score, accuracy_score\n",
    "nb_test_f1_score = f1_score(y_test, predictions)\n",
    "nb_test_acc_score = accuracy_score(y_test, predictions)\n",
    "\n",
    "# Adding Scores To DataFrame\n",
    "model_eval_df.loc[df_index] = ['Naive Bayes Classifier', nb_f1_score, nb_test_f1_score, nb_test_acc_score]\n",
    "df_index = df_index + 1"
   ]
  },
  {
   "cell_type": "markdown",
   "metadata": {},
   "source": [
    "<a id='lr_eval'></a>"
   ]
  },
  {
   "cell_type": "markdown",
   "metadata": {},
   "source": [
    "### Logistic Regression Evaluation"
   ]
  },
  {
   "cell_type": "code",
   "execution_count": 47,
   "metadata": {},
   "outputs": [],
   "source": [
    "predictions = lg_classifier.predict(X_test)\n",
    "# Caculating F1 Score\n",
    "from sklearn.metrics import f1_score, accuracy_score\n",
    "lg_test_f1_score = f1_score(y_test, predictions)\n",
    "lg_test_acc_score = accuracy_score(y_test, predictions)\n",
    "\n",
    "# Adding Scores To DataFrame\n",
    "model_eval_df.loc[df_index] = ['Logistic Regression', lg_f1_score, lg_test_f1_score, lg_test_acc_score]\n",
    "df_index = df_index + 1"
   ]
  },
  {
   "cell_type": "markdown",
   "metadata": {},
   "source": [
    "<a id='model_compare'></a>"
   ]
  },
  {
   "cell_type": "markdown",
   "metadata": {},
   "source": [
    "## Model Performance Comparison"
   ]
  },
  {
   "cell_type": "code",
   "execution_count": 48,
   "metadata": {},
   "outputs": [
    {
     "data": {
      "text/html": [
       "<div>\n",
       "<style scoped>\n",
       "    .dataframe tbody tr th:only-of-type {\n",
       "        vertical-align: middle;\n",
       "    }\n",
       "\n",
       "    .dataframe tbody tr th {\n",
       "        vertical-align: top;\n",
       "    }\n",
       "\n",
       "    .dataframe thead th {\n",
       "        text-align: right;\n",
       "    }\n",
       "</style>\n",
       "<table border=\"1\" class=\"dataframe\">\n",
       "  <thead>\n",
       "    <tr style=\"text-align: right;\">\n",
       "      <th></th>\n",
       "      <th>Model</th>\n",
       "      <th>Train F1 Score</th>\n",
       "      <th>Test F1 Score</th>\n",
       "      <th>Test Accuracy</th>\n",
       "    </tr>\n",
       "  </thead>\n",
       "  <tbody>\n",
       "    <tr>\n",
       "      <th>0</th>\n",
       "      <td>KNN</td>\n",
       "      <td>0.912010</td>\n",
       "      <td>0.954774</td>\n",
       "      <td>0.954315</td>\n",
       "    </tr>\n",
       "    <tr>\n",
       "      <th>1</th>\n",
       "      <td>Decision Tree</td>\n",
       "      <td>0.912314</td>\n",
       "      <td>0.936585</td>\n",
       "      <td>0.934010</td>\n",
       "    </tr>\n",
       "    <tr>\n",
       "      <th>2</th>\n",
       "      <td>Random Forest</td>\n",
       "      <td>0.937559</td>\n",
       "      <td>0.969072</td>\n",
       "      <td>0.969543</td>\n",
       "    </tr>\n",
       "    <tr>\n",
       "      <th>3</th>\n",
       "      <td>SVM Classifier</td>\n",
       "      <td>0.937628</td>\n",
       "      <td>0.969388</td>\n",
       "      <td>0.969543</td>\n",
       "    </tr>\n",
       "    <tr>\n",
       "      <th>4</th>\n",
       "      <td>Naive Bayes Classifier</td>\n",
       "      <td>0.908825</td>\n",
       "      <td>0.953846</td>\n",
       "      <td>0.954315</td>\n",
       "    </tr>\n",
       "    <tr>\n",
       "      <th>5</th>\n",
       "      <td>Logistic Regression</td>\n",
       "      <td>0.937546</td>\n",
       "      <td>0.969388</td>\n",
       "      <td>0.969543</td>\n",
       "    </tr>\n",
       "  </tbody>\n",
       "</table>\n",
       "</div>"
      ],
      "text/plain": [
       "                    Model  Train F1 Score  Test F1 Score  Test Accuracy\n",
       "0                     KNN        0.912010       0.954774       0.954315\n",
       "1           Decision Tree        0.912314       0.936585       0.934010\n",
       "2           Random Forest        0.937559       0.969072       0.969543\n",
       "3          SVM Classifier        0.937628       0.969388       0.969543\n",
       "4  Naive Bayes Classifier        0.908825       0.953846       0.954315\n",
       "5     Logistic Regression        0.937546       0.969388       0.969543"
      ]
     },
     "execution_count": 48,
     "metadata": {},
     "output_type": "execute_result"
    }
   ],
   "source": [
    "model_eval_df"
   ]
  },
  {
   "cell_type": "markdown",
   "metadata": {},
   "source": [
    "The two **Best Performing Models** are:\n",
    "1. Random Forest Classifier\n",
    "2. SVM Classifier"
   ]
  },
  {
   "cell_type": "markdown",
   "metadata": {},
   "source": [
    "However, in the testing set, **SVM Classifier** has a little higher Test Set F1 Score than Random Forest Classifier. Hence, the **BEST MODEL is SVM Classifier**"
   ]
  },
  {
   "cell_type": "markdown",
   "metadata": {},
   "source": [
    "<a id='best_model'></a>"
   ]
  },
  {
   "cell_type": "markdown",
   "metadata": {},
   "source": [
    "## Best Model Predictions"
   ]
  },
  {
   "cell_type": "code",
   "execution_count": 49,
   "metadata": {},
   "outputs": [],
   "source": [
    "# Predicting Using SVM Classifier\n",
    "predictions = svm_classifier.predict(X_test)"
   ]
  },
  {
   "cell_type": "code",
   "execution_count": 50,
   "metadata": {},
   "outputs": [
    {
     "data": {
      "image/png": "[encoded data removed]",
      "text/plain": [
       "<Figure size 432x288 with 2 Axes>"
      ]
     },
     "metadata": {
      "needs_background": "light"
     },
     "output_type": "display_data"
    }
   ],
   "source": [
    "# Visualising Confusion Matrix\n",
    "from sklearn.metrics import confusion_matrix\n",
    "cm = confusion_matrix(y_test, predictions)\n",
    "df_cm = pd.DataFrame(cm, index=['Genuine','Fraud'], columns=['Genuine','Fraud'])\n",
    "sns.heatmap(df_cm, annot=True, cmap='Blues')\n",
    "plt.title('Confusion Matrix')\n",
    "plt.show()"
   ]
  },
  {
   "cell_type": "code",
   "execution_count": 51,
   "metadata": {},
   "outputs": [
    {
     "name": "stdout",
     "output_type": "stream",
     "text": [
      "Classification Report\n",
      "              precision    recall  f1-score   support\n",
      "\n",
      "           0       0.95      0.99      0.97        97\n",
      "           1       0.99      0.95      0.97       100\n",
      "\n",
      "    accuracy                           0.97       197\n",
      "   macro avg       0.97      0.97      0.97       197\n",
      "weighted avg       0.97      0.97      0.97       197\n",
      "\n"
     ]
    }
   ],
   "source": [
    "# Printing Classification Report\n",
    "from sklearn.metrics import classification_report\n",
    "print('Classification Report')\n",
    "print(classification_report(y_test, predictions))"
   ]
  },
  {
   "cell_type": "markdown",
   "metadata": {},
   "source": [
    "## ------ END -------"
   ]
  }
 ],
 "metadata": {
  "kernelspec": {
   "display_name": "Python 3",
   "language": "python",
   "name": "python3"
  },
  "language_info": {
   "codemirror_mode": {
    "name": "ipython",
    "version": 3
   },
   "file_extension": ".py",
   "mimetype": "text/x-python",
   "name": "python",
   "nbconvert_exporter": "python",
   "pygments_lexer": "ipython3",
   "version": "3.7.7"
  }
 },
 "nbformat": 4,
 "nbformat_minor": 4
}
